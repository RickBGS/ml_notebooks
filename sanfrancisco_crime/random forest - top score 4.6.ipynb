{
 "cells": [
  {
   "cell_type": "code",
   "execution_count": 1,
   "metadata": {
    "collapsed": true
   },
   "outputs": [],
   "source": [
    "import pandas as pd\n",
    "import numpy as np\n",
    "\n",
    "# modeling\n",
    "import xgboost as xgb\n",
    "from sklearn.ensemble import RandomForestClassifier\n",
    "from sklearn.preprocessing import StandardScaler, LabelEncoder\n",
    "\n",
    "# validation\n",
    "from sklearn.model_selection import train_test_split\n",
    "from sklearn.metrics import roc_auc_score\n",
    "from sklearn.model_selection import cross_val_predict, KFold\n",
    "from sklearn.metrics import classification_report\n"
   ]
  },
  {
   "cell_type": "code",
   "execution_count": 2,
   "metadata": {
    "collapsed": false
   },
   "outputs": [
    {
     "data": {
      "text/plain": [
       "array([37, 21, 21, ..., 16, 35, 12])"
      ]
     },
     "execution_count": 2,
     "metadata": {},
     "output_type": "execute_result"
    }
   ],
   "source": [
    "def describe_categorical(X):\n",
    "    print(X[X.columns[X.dtypes == 'object']].describe())\n",
    "\n",
    "def get_original_datasets(idx):\n",
    "    global combined\n",
    "    \n",
    "    train0 = pd.read_csv('data/train.csv')\n",
    "    targets = train0.Category\n",
    "    train = combined.head(idx)\n",
    "    test = combined.iloc[idx:]\n",
    "    \n",
    "    return train, test, targets\n",
    "\n",
    "def combined_dataset():\n",
    "    train = pd.read_csv(\"data/train.csv\")\n",
    "    test = pd.read_csv(\"data/test.csv\")\n",
    "    targets = train.Category\n",
    "    train.drop('Category', 1, inplace=True)\n",
    "    combined = train.append(test)\n",
    "    combined.reset_index(inplace=True)\n",
    "    combined.drop('index', inplace=True, axis=1)\n",
    "    \n",
    "    return combined, train.shape[0], targets\n",
    "\n",
    "combined, idx, targets = combined_dataset()\n",
    "le = LabelEncoder()\n",
    "le.fit_transform(targets)"
   ]
  },
  {
   "cell_type": "code",
   "execution_count": 3,
   "metadata": {
    "collapsed": true
   },
   "outputs": [],
   "source": [
    "combined['Dates'] = pd.to_datetime(combined['Dates'])\n",
    "combined['Year'] = combined['Dates'].apply(lambda x: x.year)\n"
   ]
  },
  {
   "cell_type": "code",
   "execution_count": 4,
   "metadata": {
    "collapsed": true
   },
   "outputs": [],
   "source": [
    "combined['Hour'] = combined['Dates'].map(lambda x: x.hour)\n",
    "combined['Month'] = combined['Dates'].map(lambda x: x.month)\n"
   ]
  },
  {
   "cell_type": "code",
   "execution_count": 5,
   "metadata": {
    "collapsed": true
   },
   "outputs": [],
   "source": [
    "import re\n",
    "\n",
    "def extractStreetType(x):\n",
    "    types = r\"AV|BL|CR|CT|DR|EX|HWY|HY|LN|PL|PZ|RD|ST|TR|WY|WAY\"\n",
    "    return re.search(types, x, flags=re.IGNORECASE).group()\n",
    "    \n",
    "combined['StreetType'] = combined.Address.apply(extractStreetType)"
   ]
  },
  {
   "cell_type": "code",
   "execution_count": 6,
   "metadata": {
    "collapsed": false
   },
   "outputs": [],
   "source": [
    "def day_of_week():\n",
    "    global combined\n",
    "    dayofweek_dummies = pd.get_dummies(combined['DayOfWeek'],prefix='DayOfWeek')\n",
    "    combined = pd.concat([combined,dayofweek_dummies],axis=1)\n",
    "    combined.drop('DayOfWeek', inplace=True, axis=1)\n",
    "    \n",
    "day_of_week()"
   ]
  },
  {
   "cell_type": "code",
   "execution_count": 7,
   "metadata": {
    "collapsed": true
   },
   "outputs": [],
   "source": [
    "def street_type():\n",
    "    global combined\n",
    "    streettype_dummies = pd.get_dummies(combined['StreetType'],prefix='StreetType')\n",
    "    combined = pd.concat([combined,streettype_dummies],axis=1)\n",
    "    combined.drop('StreetType', inplace=True, axis=1)\n",
    "\n",
    "street_type()"
   ]
  },
  {
   "cell_type": "code",
   "execution_count": 8,
   "metadata": {
    "collapsed": false
   },
   "outputs": [],
   "source": [
    "def pd_district():\n",
    "    global combined\n",
    "    pd_district_dummies = pd.get_dummies(combined['PdDistrict'],prefix='PdDistrict')\n",
    "    combined = pd.concat([combined,pd_district_dummies],axis=1)\n",
    "    combined.drop('PdDistrict', inplace=True, axis=1)\n",
    "pd_district()"
   ]
  },
  {
   "cell_type": "code",
   "execution_count": 9,
   "metadata": {
    "collapsed": false
   },
   "outputs": [],
   "source": [
    "def street_no():\n",
    "    global combined\n",
    "    combined['StreetNo'] = combined['Address'].apply(lambda x: int(x.split(' ', 1)[0]) if x.split(' ', 1)[0].isdigit() else 0)\n",
    "\n",
    "street_no()"
   ]
  },
  {
   "cell_type": "code",
   "execution_count": 10,
   "metadata": {
    "collapsed": true
   },
   "outputs": [],
   "source": [
    "def process_address():\n",
    "    global combined\n",
    "    combined['Address'] = combined['Address'].apply(lambda x: x.split(' ', 1)[1] if x.split(' ', 1)[0].isdigit() else x)\n",
    "\n",
    "process_address()"
   ]
  },
  {
   "cell_type": "code",
   "execution_count": 11,
   "metadata": {
    "collapsed": true
   },
   "outputs": [],
   "source": [
    "le = LabelEncoder()\n",
    "features_to_encode = ['Dates', 'Address']\n",
    "\n",
    "for c in features_to_encode:\n",
    "    combined[c] = le.fit_transform(combined[c])"
   ]
  },
  {
   "cell_type": "code",
   "execution_count": 12,
   "metadata": {
    "collapsed": false
   },
   "outputs": [
    {
     "name": "stderr",
     "output_type": "stream",
     "text": [
      "/Users/sergio/anaconda/lib/python3.5/site-packages/sklearn/utils/validation.py:429: DataConversionWarning: Data with input dtype int64 was converted to float64 by StandardScaler.\n",
      "  warnings.warn(msg, _DataConversionWarning)\n"
     ]
    }
   ],
   "source": [
    "scaler = StandardScaler()\n",
    "features_to_scale = ['Address', 'Dates', 'X', 'Y', 'Year', 'Hour', 'Month', 'StreetNo']\n",
    "for c in features_to_scale:\n",
    "    combined[c] = scaler.fit_transform(combined[c].reshape(-1, 1))\n"
   ]
  },
  {
   "cell_type": "code",
   "execution_count": 13,
   "metadata": {
    "collapsed": false
   },
   "outputs": [],
   "source": [
    "combined.drop(['Id','Descript', 'Resolution'], inplace=True, axis=1)"
   ]
  },
  {
   "cell_type": "code",
   "execution_count": 14,
   "metadata": {
    "collapsed": false
   },
   "outputs": [
    {
     "name": "stdout",
     "output_type": "stream",
     "text": [
      "float64 ['Address', 'Dates', 'X', 'Y', 'Year', 'Hour', 'Month', 'DayOfWeek_Friday', 'DayOfWeek_Monday', 'DayOfWeek_Saturday', 'DayOfWeek_Sunday', 'DayOfWeek_Thursday', 'DayOfWeek_Tuesday', 'DayOfWeek_Wednesday', 'StreetType_AV', 'StreetType_BL', 'StreetType_Bl', 'StreetType_CR', 'StreetType_CT', 'StreetType_DR', 'StreetType_EX', 'StreetType_HWY', 'StreetType_HY', 'StreetType_LN', 'StreetType_PL', 'StreetType_PZ', 'StreetType_RD', 'StreetType_ST', 'StreetType_TR', 'StreetType_WAY', 'StreetType_WY', 'PdDistrict_BAYVIEW', 'PdDistrict_CENTRAL', 'PdDistrict_INGLESIDE', 'PdDistrict_MISSION', 'PdDistrict_NORTHERN', 'PdDistrict_PARK', 'PdDistrict_RICHMOND', 'PdDistrict_SOUTHERN', 'PdDistrict_TARAVAL', 'PdDistrict_TENDERLOIN', 'StreetNo']\n"
     ]
    }
   ],
   "source": [
    "types = combined.columns.to_series().groupby(combined.dtypes).groups\n",
    "for k,v in types.items():\n",
    "    print(k, v)"
   ]
  },
  {
   "cell_type": "code",
   "execution_count": 15,
   "metadata": {
    "collapsed": false
   },
   "outputs": [
    {
     "data": {
      "text/plain": [
       "Address                  0\n",
       "Dates                    0\n",
       "X                        0\n",
       "Y                        0\n",
       "Year                     0\n",
       "Hour                     0\n",
       "Month                    0\n",
       "DayOfWeek_Friday         0\n",
       "DayOfWeek_Monday         0\n",
       "DayOfWeek_Saturday       0\n",
       "DayOfWeek_Sunday         0\n",
       "DayOfWeek_Thursday       0\n",
       "DayOfWeek_Tuesday        0\n",
       "DayOfWeek_Wednesday      0\n",
       "StreetType_AV            0\n",
       "StreetType_BL            0\n",
       "StreetType_Bl            0\n",
       "StreetType_CR            0\n",
       "StreetType_CT            0\n",
       "StreetType_DR            0\n",
       "StreetType_EX            0\n",
       "StreetType_HWY           0\n",
       "StreetType_HY            0\n",
       "StreetType_LN            0\n",
       "StreetType_PL            0\n",
       "StreetType_PZ            0\n",
       "StreetType_RD            0\n",
       "StreetType_ST            0\n",
       "StreetType_TR            0\n",
       "StreetType_WAY           0\n",
       "StreetType_WY            0\n",
       "PdDistrict_BAYVIEW       0\n",
       "PdDistrict_CENTRAL       0\n",
       "PdDistrict_INGLESIDE     0\n",
       "PdDistrict_MISSION       0\n",
       "PdDistrict_NORTHERN      0\n",
       "PdDistrict_PARK          0\n",
       "PdDistrict_RICHMOND      0\n",
       "PdDistrict_SOUTHERN      0\n",
       "PdDistrict_TARAVAL       0\n",
       "PdDistrict_TENDERLOIN    0\n",
       "StreetNo                 0\n",
       "dtype: int64"
      ]
     },
     "execution_count": 15,
     "metadata": {},
     "output_type": "execute_result"
    }
   ],
   "source": [
    "combined.isnull().sum()"
   ]
  },
  {
   "cell_type": "code",
   "execution_count": 16,
   "metadata": {
    "collapsed": false
   },
   "outputs": [],
   "source": [
    "train, test, targets = get_original_datasets(idx)"
   ]
  },
  {
   "cell_type": "code",
   "execution_count": 18,
   "metadata": {
    "collapsed": false
   },
   "outputs": [
    {
     "ename": "NameError",
     "evalue": "name 'columns' is not defined",
     "output_type": "error",
     "traceback": [
      "\u001b[0;31m---------------------------------------------------------------------------\u001b[0m",
      "\u001b[0;31mNameError\u001b[0m                                 Traceback (most recent call last)",
      "\u001b[0;32m<ipython-input-18-2285c1c171fb>\u001b[0m in \u001b[0;36m<module>\u001b[0;34m()\u001b[0m\n\u001b[1;32m      9\u001b[0m     \u001b[0mtrain\u001b[0m \u001b[0;34m=\u001b[0m \u001b[0msfm\u001b[0m\u001b[0;34m.\u001b[0m\u001b[0mtransform\u001b[0m\u001b[0;34m(\u001b[0m\u001b[0mtrain\u001b[0m\u001b[0;34m)\u001b[0m\u001b[0;34m\u001b[0m\u001b[0m\n\u001b[1;32m     10\u001b[0m     \u001b[0mtest\u001b[0m \u001b[0;34m=\u001b[0m \u001b[0msfm\u001b[0m\u001b[0;34m.\u001b[0m\u001b[0mtransform\u001b[0m\u001b[0;34m(\u001b[0m\u001b[0mtest\u001b[0m\u001b[0;34m)\u001b[0m\u001b[0;34m\u001b[0m\u001b[0m\n\u001b[0;32m---> 11\u001b[0;31m     \u001b[0mprint\u001b[0m\u001b[0;34m(\u001b[0m\u001b[0mcolumns\u001b[0m\u001b[0;34m[\u001b[0m\u001b[0msfm\u001b[0m\u001b[0;34m.\u001b[0m\u001b[0mget_support\u001b[0m\u001b[0;34m(\u001b[0m\u001b[0;34m)\u001b[0m\u001b[0;34m]\u001b[0m\u001b[0;34m)\u001b[0m\u001b[0;34m\u001b[0m\u001b[0m\n\u001b[0m",
      "\u001b[0;31mNameError\u001b[0m: name 'columns' is not defined"
     ]
    }
   ],
   "source": [
    "from sklearn.feature_selection import SelectFromModel\n",
    "\n",
    "select_model = True\n",
    "clf = RandomForestClassifier(n_estimators=50, max_features='sqrt')\n",
    "clf = clf.fit(train, targets)\n",
    "\n",
    "if select_model:\n",
    "    sfm = SelectFromModel(clf, prefit=True)\n",
    "    train = sfm.transform(train)\n",
    "    test = sfm.transform(test)\n",
    "    print(le.classes_[sfm.get_support()]) "
   ]
  },
  {
   "cell_type": "code",
   "execution_count": 19,
   "metadata": {
    "collapsed": false
   },
   "outputs": [
    {
     "name": "stdout",
     "output_type": "stream",
     "text": [
      "(614634, 8)\n",
      "(263415, 8)\n",
      "(614634,)\n",
      "(263415,)\n"
     ]
    }
   ],
   "source": [
    "X_train, X_test, y_train, y_test = train_test_split(train, targets, test_size=0.3, random_state=0)\n",
    "\n",
    "print(X_train.shape)\n",
    "print(X_test.shape)\n",
    "print(y_train.shape)\n",
    "print(y_test.shape)"
   ]
  },
  {
   "cell_type": "code",
   "execution_count": 20,
   "metadata": {
    "collapsed": false
   },
   "outputs": [
    {
     "data": {
      "text/plain": [
       "RandomForestClassifier(bootstrap=True, class_weight=None, criterion='gini',\n",
       "            max_depth=50, max_features=0.3, max_leaf_nodes=None,\n",
       "            min_impurity_split=1e-07, min_samples_leaf=5,\n",
       "            min_samples_split=2, min_weight_fraction_leaf=0.0,\n",
       "            n_estimators=10, n_jobs=1, oob_score=False, random_state=42,\n",
       "            verbose=0, warm_start=False)"
      ]
     },
     "execution_count": 20,
     "metadata": {},
     "output_type": "execute_result"
    }
   ],
   "source": [
    "model = RandomForestClassifier(n_estimators=10, max_depth=50, max_features=0.3, min_samples_leaf=5, random_state=42)\n",
    "model.fit(X_train, y_train)\n"
   ]
  },
  {
   "cell_type": "code",
   "execution_count": 21,
   "metadata": {
    "collapsed": false
   },
   "outputs": [],
   "source": [
    "y_train_pred = model.predict(X_train)\n",
    "y_test_pred = model.predict(X_test)"
   ]
  },
  {
   "cell_type": "code",
   "execution_count": 22,
   "metadata": {
    "collapsed": false
   },
   "outputs": [
    {
     "name": "stdout",
     "output_type": "stream",
     "text": [
      " * uncalibrated classifier trained on 800 datapoints: 4.459 \n"
     ]
    }
   ],
   "source": [
    "from sklearn.metrics import log_loss\n",
    "clf_probs = model.predict_proba(X_test)\n",
    "score = log_loss(y_test, clf_probs)\n",
    "print(\" * uncalibrated classifier trained on 800 datapoints: %.3f \" % score)"
   ]
  },
  {
   "cell_type": "code",
   "execution_count": 23,
   "metadata": {
    "collapsed": false
   },
   "outputs": [
    {
     "name": "stdout",
     "output_type": "stream",
     "text": [
      "                             precision    recall  f1-score   support\n",
      "\n",
      "                      ARSON       0.00      0.00      0.00       451\n",
      "                    ASSAULT       0.21      0.21      0.21     23137\n",
      "                 BAD CHECKS       0.00      0.00      0.00       118\n",
      "                    BRIBERY       0.00      0.00      0.00        84\n",
      "                   BURGLARY       0.17      0.10      0.13     10890\n",
      "         DISORDERLY CONDUCT       0.11      0.03      0.05      1226\n",
      "DRIVING UNDER THE INFLUENCE       0.12      0.00      0.01       701\n",
      "              DRUG/NARCOTIC       0.36      0.41      0.38     16338\n",
      "                DRUNKENNESS       0.02      0.00      0.00      1260\n",
      "               EMBEZZLEMENT       0.00      0.00      0.00       340\n",
      "                  EXTORTION       0.00      0.00      0.00        82\n",
      "            FAMILY OFFENSES       0.22      0.01      0.03       144\n",
      "     FORGERY/COUNTERFEITING       0.23      0.06      0.09      3161\n",
      "                      FRAUD       0.15      0.02      0.04      4929\n",
      "                   GAMBLING       0.00      0.00      0.00        48\n",
      "                 KIDNAPPING       0.09      0.00      0.01       714\n",
      "              LARCENY/THEFT       0.34      0.64      0.45     52146\n",
      "                LIQUOR LAWS       0.38      0.03      0.05       596\n",
      "                  LOITERING       0.60      0.14      0.23       379\n",
      "             MISSING PERSON       0.53      0.39      0.45      7802\n",
      "               NON-CRIMINAL       0.22      0.22      0.22     27775\n",
      "             OTHER OFFENSES       0.27      0.36      0.31     37904\n",
      "    PORNOGRAPHY/OBSCENE MAT       0.00      0.00      0.00         8\n",
      "               PROSTITUTION       0.56      0.67      0.61      2202\n",
      "          RECOVERED VEHICLE       0.17      0.01      0.01       950\n",
      "                    ROBBERY       0.11      0.02      0.03      6883\n",
      "                    RUNAWAY       0.52      0.21      0.30       592\n",
      "            SECONDARY CODES       0.03      0.00      0.01      2930\n",
      "      SEX OFFENSES FORCIBLE       0.27      0.03      0.05      1305\n",
      "  SEX OFFENSES NON FORCIBLE       0.00      0.00      0.00        44\n",
      "            STOLEN PROPERTY       0.02      0.00      0.00      1405\n",
      "                    SUICIDE       0.00      0.00      0.00       145\n",
      "             SUSPICIOUS OCC       0.09      0.02      0.03      9566\n",
      "                       TREA       0.00      0.00      0.00         2\n",
      "                   TRESPASS       0.13      0.02      0.04      2207\n",
      "                  VANDALISM       0.15      0.06      0.09     13483\n",
      "              VEHICLE THEFT       0.33      0.31      0.32     16152\n",
      "                   WARRANTS       0.15      0.05      0.07     12781\n",
      "                WEAPON LAWS       0.20      0.03      0.05      2535\n",
      "\n",
      "                avg / total       0.26      0.30      0.26    263415\n",
      "\n"
     ]
    },
    {
     "name": "stderr",
     "output_type": "stream",
     "text": [
      "/Users/sergio/anaconda/lib/python3.5/site-packages/sklearn/metrics/classification.py:1113: UndefinedMetricWarning: Precision and F-score are ill-defined and being set to 0.0 in labels with no predicted samples.\n",
      "  'precision', 'predicted', average, warn_for)\n"
     ]
    }
   ],
   "source": [
    "print(classification_report(y_test, y_test_pred))"
   ]
  },
  {
   "cell_type": "code",
   "execution_count": 25,
   "metadata": {
    "collapsed": false
   },
   "outputs": [],
   "source": [
    "import csv\n",
    "\n",
    "predicted = np.array(model.predict_proba(test))\n",
    "\n",
    "labels = ['Id']\n",
    "for i in model.classes_:\n",
    "    labels.append(i)\n",
    "with open('submissions/sn_random_forest_submission.csv', 'wt') as outf:\n",
    "  fo = csv.writer(outf, lineterminator='\\n')\n",
    "  fo.writerow(labels)\n",
    "\n",
    "  for i, pred in enumerate(predicted):\n",
    "    fo.writerow([i] + list(pred))"
   ]
  },
  {
   "cell_type": "code",
   "execution_count": 26,
   "metadata": {
    "collapsed": false
   },
   "outputs": [
    {
     "data": {
      "text/plain": [
       "(884262, 39)"
      ]
     },
     "execution_count": 26,
     "metadata": {},
     "output_type": "execute_result"
    }
   ],
   "source": [
    "predicted.shape"
   ]
  },
  {
   "cell_type": "code",
   "execution_count": null,
   "metadata": {
    "collapsed": true
   },
   "outputs": [],
   "source": []
  }
 ],
 "metadata": {
  "anaconda-cloud": {},
  "kernelspec": {
   "display_name": "Python [default]",
   "language": "python",
   "name": "python3"
  },
  "language_info": {
   "codemirror_mode": {
    "name": "ipython",
    "version": 3
   },
   "file_extension": ".py",
   "mimetype": "text/x-python",
   "name": "python",
   "nbconvert_exporter": "python",
   "pygments_lexer": "ipython3",
   "version": "3.5.2"
  }
 },
 "nbformat": 4,
 "nbformat_minor": 1
}
